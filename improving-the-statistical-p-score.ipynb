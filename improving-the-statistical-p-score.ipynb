{
 "metadata": {
  "name": "",
  "signature": "sha256:be1da6ad166c13a1740b2cece915f0d6542b545d44befb62abb33d78925a62e0"
 },
 "nbformat": 3,
 "nbformat_minor": 0,
 "worksheets": [
  {
   "cells": [
    {
     "cell_type": "markdown",
     "metadata": {},
     "source": [
      "# Logic\n",
      "I have read that defining the definition of a normalized Gaussian(unimodal) distribution includes two pieces of information. Those pieces of information are the mean and the standard deviation. This tells the location of the center and how spread out the distribution is.\n",
      "\n",
      "This seems to account for degrees of freedom. I consider a degree of freedom to be a single coordinate which can vary by itself. Here, \"vary by itself\" means that the coordinate can vary while the other coordinates remain fixed and all assumptions about the distribution are satisfied.\n",
      "\n",
      "Consider a space with two dimensions, one for the indepent variable(input) and the other for the dependent variable(response). Let a basis be chosen. This gives units, and thus measures of distance in each dimension.\n",
      "\n",
      "\n",
      "Examples\n",
      "---\n",
      "----------------------------------------------------------------\n",
      "| Assumed Shape   | Degrees of Freedom | Definition as Example |\n",
      "|-----------------|--------------------|-----------------------|\n",
      "| point           | 2                  | $(x_0,y_0)$           |\n",
      "| circle          | 3                  | $r,(h,k)$             |\n",
      "| line            | 4                  | $(x_0,y_0),(x_1,y_1)$ |\n",
      "| quadratic curve | ?                  | $ |\n",
      "---\n",
      "\n",
      "I have some trepedation about using a circle because it is not a function. By not requiring objects to be functions I remove an assumption. This seems to be a necessary assumption for a distribution.\n",
      "\n",
      "I can define the degrees of freedom for general shapes and us one for constraining the rotation of the function. Rotation can steal function-ness from almost any shape. An example of a rotationally robust function is a sigmoid whose infemum and supremum are both linear asymptotes.\n",
      "\n",
      "This work is all because I think there are too many degrees of freedom for a single \"p-value\" to describe a unimodal Gaussian distribution. My belief that the p-value is insufficient description of the distribution comes from the my misconception that the p-value is a good measure of the strength of the null hypothesis in statistical evaluation of results. I interpretted a p-value of $0.05$ to mean that there is a $5\\%$ chance that the null hypothesis is valid.\n",
      "\n",
      "My misunderstanding was clarified by watching the linked video titled \n",
      "\"The New Statistics: Confidence Intervals, NHST, and p Values (Workshop Part 1)\" by Geoff Cummings. Here is the link to the video:\n",
      "- https://www.google.com/url?sa=t&rct=j&q=&esrc=s&source=web&cd=2&cad=rja&uact=8&ved=0ahUKEwjS5KDhz_LJAhUHwWMKHbPWCisQtwIIIDAB&url=https%3A%2F%2Fwww.youtube.com%2Fwatch%3Fv%3D5OL1RqHrZQ8&usg=AFQjCNHmRXEIh2uLxigKpZV6dGZdqf96eA\n",
      "\n",
      "Geoff Cummmings published a thorough article covering this and other research-best-practices titled \"The New Statistics: Why and How.\" The article also includes other topics such as how to avoid bias in research. Here is the link to the article:\n",
      "- http://www.uncw.edu/psy/news/documents/Cumming-The%20New%20Statistics-PS-2014.pdf\n",
      "\n",
      "Anyway, back to correcting the p-value."
     ]
    },
    {
     "cell_type": "code",
     "collapsed": false,
     "input": [],
     "language": "python",
     "metadata": {},
     "outputs": []
    }
   ],
   "metadata": {}
  }
 ]
}