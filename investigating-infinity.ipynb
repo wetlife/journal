{
 "metadata": {
  "name": "",
  "signature": "sha256:12ecca6785e201db749a0317c6cebf0601c458aa8d835d4ce065561d2b360448"
 },
 "nbformat": 3,
 "nbformat_minor": 0,
 "worksheets": [
  {
   "cells": [
    {
     "cell_type": "markdown",
     "metadata": {},
     "source": [
      "#    Investigating Infinity\n",
      "---\n",
      "##   Finding a Bijective Map to Show the Way\n",
      "---\n",
      "###  Motivating the Mapping\n",
      "---\n",
      "Let space be the real numbers, $\\mathbb{R}$. There is an uncountably infinite number of points on the open interval  between two distinct numbers for any numbers. There is an uncountably infinite number of points on the unbounded number line.\n",
      "\n",
      "Please hold the previous thought. Any set, $\\mathbb{S}$, with a countably infinite ordinality has a bijective map to the natural numbers, $\\mathbb{N}$. Let's extend this property of countably infinite sets to explore the infinitude of uncountable sets, such as classical distances and angles.\n",
      "###  Map-Making\n",
      "---\n",
      "For $\\mathbb{R}\\rightarrow(-1,1)$ I will cells below to inspect behavior of promising leads until I finally find a map, at which point I will plot the mapping with the abscissa measuring $\\mathbb{R}. The ordinate will hopefully only need the desired range: the interval (-1,1). This setup leads me to suspect I will find a sigmoid \"zigmoid,\" so long as there's no \"zagmoidal\" component breaking functionality, let alone bijectivity."
     ]
    },
    {
     "cell_type": "code",
     "collapsed": false,
     "input": [
      "import numpy as np\n",
      "import matplotlib.pyplot as plt\n",
      "\n",
      "interval = np.array(range(-1,1))\n",
      "map = np.zeros_like(R)\n",
      "index = 0\n",
      "for x in interval:\n",
      "    y = 1/((1-x)(1+x))\n",
      "    map[index] = y\n",
      "    index+=1\n",
      "plt.plot(R,map)"
     ],
     "language": "python",
     "metadata": {},
     "outputs": [
      {
       "ename": "TypeError",
       "evalue": "'numpy.int64' object is not callable",
       "output_type": "pyerr",
       "traceback": [
        "\u001b[0;31m---------------------------------------------------------------------------\u001b[0m\n\u001b[0;31mTypeError\u001b[0m                                 Traceback (most recent call last)",
        "\u001b[0;32m<ipython-input-7-095cd89837a2>\u001b[0m in \u001b[0;36m<module>\u001b[0;34m()\u001b[0m\n\u001b[1;32m      6\u001b[0m \u001b[0mindex\u001b[0m \u001b[0;34m=\u001b[0m \u001b[0;36m0\u001b[0m\u001b[0;34m\u001b[0m\u001b[0m\n\u001b[1;32m      7\u001b[0m \u001b[0;32mfor\u001b[0m \u001b[0mx\u001b[0m \u001b[0;32min\u001b[0m \u001b[0minterval\u001b[0m\u001b[0;34m:\u001b[0m\u001b[0;34m\u001b[0m\u001b[0m\n\u001b[0;32m----> 8\u001b[0;31m     \u001b[0my\u001b[0m \u001b[0;34m=\u001b[0m \u001b[0;36m1\u001b[0m\u001b[0;34m/\u001b[0m\u001b[0;34m(\u001b[0m\u001b[0;34m(\u001b[0m\u001b[0;36m1\u001b[0m\u001b[0;34m-\u001b[0m\u001b[0mx\u001b[0m\u001b[0;34m)\u001b[0m\u001b[0;34m(\u001b[0m\u001b[0;36m1\u001b[0m\u001b[0;34m+\u001b[0m\u001b[0mx\u001b[0m\u001b[0;34m)\u001b[0m\u001b[0;34m)\u001b[0m\u001b[0;34m\u001b[0m\u001b[0m\n\u001b[0m\u001b[1;32m      9\u001b[0m     \u001b[0mmap\u001b[0m\u001b[0;34m[\u001b[0m\u001b[0mindex\u001b[0m\u001b[0;34m]\u001b[0m \u001b[0;34m=\u001b[0m \u001b[0my\u001b[0m\u001b[0;34m\u001b[0m\u001b[0m\n\u001b[1;32m     10\u001b[0m     \u001b[0mindex\u001b[0m\u001b[0;34m+=\u001b[0m\u001b[0;36m1\u001b[0m\u001b[0;34m\u001b[0m\u001b[0m\n",
        "\u001b[0;31mTypeError\u001b[0m: 'numpy.int64' object is not callable"
       ]
      }
     ],
     "prompt_number": 7
    },
    {
     "cell_type": "code",
     "collapsed": false,
     "input": [],
     "language": "python",
     "metadata": {},
     "outputs": []
    }
   ],
   "metadata": {}
  }
 ]
}